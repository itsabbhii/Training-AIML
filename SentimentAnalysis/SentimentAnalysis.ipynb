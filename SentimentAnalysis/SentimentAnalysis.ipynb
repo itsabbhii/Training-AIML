{
  "nbformat": 4,
  "nbformat_minor": 0,
  "metadata": {
    "colab": {
      "provenance": [],
      "authorship_tag": "ABX9TyPguLu0nRiosUtfUX/Ic3V/",
      "include_colab_link": true
    },
    "kernelspec": {
      "name": "python3",
      "display_name": "Python 3"
    },
    "language_info": {
      "name": "python"
    }
  },
  "cells": [
    {
      "cell_type": "markdown",
      "metadata": {
        "id": "view-in-github",
        "colab_type": "text"
      },
      "source": [
        "<a href=\"https://colab.research.google.com/github/itsabbhii/Training-AIML/blob/main/SentimentAnalysis/SentimentAnalysis.ipynb\" target=\"_parent\"><img src=\"https://colab.research.google.com/assets/colab-badge.svg\" alt=\"Open In Colab\"/></a>"
      ]
    },
    {
      "cell_type": "code",
      "source": [
        "!git clone https://github.com/itsabbhii/Training-AIML.git\n",
        "%cd Training-AIML/SentimentAnalysis/"
      ],
      "metadata": {
        "id": "dk_2uD1kzQMR",
        "outputId": "18a382ef-17d4-4460-f89e-12d9373f541d",
        "colab": {
          "base_uri": "https://localhost:8080/"
        }
      },
      "execution_count": 2,
      "outputs": [
        {
          "output_type": "stream",
          "name": "stdout",
          "text": [
            "Cloning into 'Training-AIML'...\n",
            "remote: Enumerating objects: 237, done.\u001b[K\n",
            "remote: Counting objects: 100% (35/35), done.\u001b[K\n",
            "remote: Compressing objects: 100% (29/29), done.\u001b[K\n",
            "remote: Total 237 (delta 11), reused 23 (delta 6), pack-reused 202 (from 1)\u001b[K\n",
            "Receiving objects: 100% (237/237), 33.11 MiB | 20.83 MiB/s, done.\n",
            "Resolving deltas: 100% (85/85), done.\n",
            "/content/Training-AIML/SentimentAnalysis\n"
          ]
        }
      ]
    },
    {
      "cell_type": "code",
      "execution_count": 1,
      "metadata": {
        "id": "oXiEa7FXyEGW"
      },
      "outputs": [],
      "source": [
        "import tensorflow as tf\n",
        "from tensorflow.keras.datasets import imdb\n",
        "from tensorflow.keras.preprocessing.sequence import pad_sequences\n",
        "from tensorflow.keras.models import Sequential\n",
        "from tensorflow.keras.layers import Embedding, SimpleRNN, Dense"
      ]
    }
  ]
}