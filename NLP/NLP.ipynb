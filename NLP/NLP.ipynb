{
  "nbformat": 4,
  "nbformat_minor": 0,
  "metadata": {
    "colab": {
      "provenance": [],
      "authorship_tag": "ABX9TyPFv0TdRn2wRQ2GCR/6oYZk",
      "include_colab_link": true
    },
    "kernelspec": {
      "name": "python3",
      "display_name": "Python 3"
    },
    "language_info": {
      "name": "python"
    }
  },
  "cells": [
    {
      "cell_type": "markdown",
      "metadata": {
        "id": "view-in-github",
        "colab_type": "text"
      },
      "source": [
        "<a href=\"https://colab.research.google.com/github/itsabbhii/Training-AIML/blob/main/NLP/NLP.ipynb\" target=\"_parent\"><img src=\"https://colab.research.google.com/assets/colab-badge.svg\" alt=\"Open In Colab\"/></a>"
      ]
    },
    {
      "cell_type": "code",
      "execution_count": 1,
      "metadata": {
        "id": "oIjKkHztcE-Q",
        "colab": {
          "base_uri": "https://localhost:8080/"
        },
        "outputId": "650480d0-1e7e-46a0-edbc-a3a73fd392b0"
      },
      "outputs": [
        {
          "output_type": "stream",
          "name": "stdout",
          "text": [
            "Cloning into 'Training-AIML'...\n",
            "remote: Enumerating objects: 1136, done.\u001b[K\n",
            "remote: Counting objects: 100% (934/934), done.\u001b[K\n",
            "remote: Compressing objects: 100% (913/913), done.\u001b[K\n",
            "remote: Total 1136 (delta 54), reused 858 (delta 14), pack-reused 202 (from 1)\u001b[K\n",
            "Receiving objects: 100% (1136/1136), 54.22 MiB | 9.05 MiB/s, done.\n",
            "Resolving deltas: 100% (128/128), done.\n",
            "Updating files: 100% (942/942), done.\n",
            "/content/Training-AIML/NLP\n"
          ]
        }
      ],
      "source": [
        "!git clone https://github.com/itsabbhii/Training-AIML.git\n",
        "%cd Training-AIML/NLP/"
      ]
    },
    {
      "cell_type": "code",
      "source": [
        "import nltk,string,pickle\n",
        "import random\n",
        "from nltk.corpus import movie_reviews,stopwords\n",
        "from nltk.stem import WordNetLemmatizer\n",
        "from sklearn.model_selection import train_test_split\n",
        "from sklearn.feature_extraction.text import TfidfVectorizer\n",
        "from sklearn.linear_model import LogisticRegression\n",
        "from sklearn.metrics import accuracy_score, classification_report"
      ],
      "metadata": {
        "id": "SUlpEC8NfPOU"
      },
      "execution_count": 2,
      "outputs": []
    },
    {
      "cell_type": "code",
      "source": [
        "nltk.download(['movie_reviews', 'stopwords', 'wordnet'])\n",
        "documents = [\n",
        "    (list(movie_reviews.words(fileid)), category)\n",
        "    for category in movie_reviews.categories()\n",
        "    for fileid in movie_reviews.fileids(category)\n",
        "]\n",
        "random.shuffle(documents)\n",
        "reviews, sentiments = zip(*documents)"
      ],
      "metadata": {
        "colab": {
          "base_uri": "https://localhost:8080/"
        },
        "id": "bowyBAgRfdr8",
        "outputId": "1b51cbcf-e735-4bb3-f608-a653be38e6ef"
      },
      "execution_count": 3,
      "outputs": [
        {
          "output_type": "stream",
          "name": "stderr",
          "text": [
            "[nltk_data] Downloading package movie_reviews to /root/nltk_data...\n",
            "[nltk_data]   Unzipping corpora/movie_reviews.zip.\n",
            "[nltk_data] Downloading package stopwords to /root/nltk_data...\n",
            "[nltk_data]   Unzipping corpora/stopwords.zip.\n",
            "[nltk_data] Downloading package wordnet to /root/nltk_data...\n"
          ]
        }
      ]
    },
    {
      "cell_type": "code",
      "source": [
        "def preprocess(review):\n",
        "  lemmatizer = WordNetLemmatizer()\n",
        "  stopword = set(stopwords.words('english'))\n",
        "  return ''.join([lemmatizer.lemmatize(word.lower()) for word in review if word not in string.punctuation and word.lower() not in stopword])\n",
        "processed_reviews = [preprocess(review) for review in reviews]"
      ],
      "metadata": {
        "id": "3v1WjbdvfomF"
      },
      "execution_count": 4,
      "outputs": []
    },
    {
      "cell_type": "code",
      "source": [
        "X_train, X_test, y_train, y_test = train_test_split(processed_reviews, sentiments, test_size=0.2)"
      ],
      "metadata": {
        "id": "a1sOVAZbgn7E"
      },
      "execution_count": 5,
      "outputs": []
    },
    {
      "cell_type": "code",
      "source": [
        "vectorizer = TfidfVectorizer(max_features=5000)\n",
        "X_train_vectorized = vectorizer.fit_transform(X_train)\n",
        "X_test_vectorized = vectorizer.transform(X_test)\n",
        "model = LogisticRegression().fit(X_train_vectorized, y_train)\n",
        "y_pred = model.predict(X_test_vectorized)\n",
        "\n",
        "accuracy = accuracy_score(y_test, y_pred)\n",
        "report = classification_report(y_test, y_pred)\n",
        "print(f\"Accuracy: {accuracy}\")\n",
        "print(f\"Report: {report}\")"
      ],
      "metadata": {
        "colab": {
          "base_uri": "https://localhost:8080/"
        },
        "id": "Km-5VWQzhF61",
        "outputId": "3402fe2c-c813-4ed4-dc05-8bf68d0b1069"
      },
      "execution_count": 6,
      "outputs": [
        {
          "output_type": "stream",
          "name": "stdout",
          "text": [
            "Accuracy: 0.475\n",
            "Report:               precision    recall  f1-score   support\n",
            "\n",
            "         neg       0.48      0.97      0.64       191\n",
            "         pos       0.44      0.02      0.04       209\n",
            "\n",
            "    accuracy                           0.47       400\n",
            "   macro avg       0.46      0.50      0.34       400\n",
            "weighted avg       0.46      0.47      0.32       400\n",
            "\n"
          ]
        }
      ]
    },
    {
      "cell_type": "code",
      "source": [
        "with open(\"sentiment_model.pkl\", \"wb\") as m, open(\"tfidf_vectorize.pkl\", \"wb\") as v:\n",
        "  pickle.dump(model, m)\n",
        "  pickle.dump(vectorizer, v)"
      ],
      "metadata": {
        "id": "wMwu3z3_igR-"
      },
      "execution_count": 7,
      "outputs": []
    },
    {
      "cell_type": "code",
      "source": [
        "import pickle, string\n",
        "from nltk.corpus import stopwords\n",
        "from nltk.stem import WordNetLemmatizer\n",
        "\n",
        "with open(\"sentiment_model.pkl\", \"rb\") as m, open(\"tfidf_vectorize.pkl\", \"rb\") as v:\n",
        "  model = pickle.load(m)\n",
        "  vectorizer = pickle.load(v)\n",
        ""
      ],
      "metadata": {
        "id": "eP_yfVLzkyhr"
      },
      "execution_count": 9,
      "outputs": []
    },
    {
      "cell_type": "code",
      "source": [
        "def preprocess_input(input_text):\n",
        "  lemmatizer = WordNetLemmatizer()\n",
        "  stopword = set(stopwords.words('english'))\n",
        "  input_text = input_text.lower()\n",
        "  input_text = ''.join([lemmatizer.lemmatize(word) for word in input_text if word not in string.punctuation and word not in stopword])\n",
        "  words = input_text.split()\n",
        "  words = [word for word in words if len(word) > 1]\n",
        "  return ' '.join(words)\n"
      ],
      "metadata": {
        "id": "Sl-YMcYblCFg"
      },
      "execution_count": null,
      "outputs": []
    }
  ]
}