{
  "nbformat": 4,
  "nbformat_minor": 0,
  "metadata": {
    "colab": {
      "provenance": [],
      "authorship_tag": "ABX9TyOFX6foQ7DeoUsHIFEMpP0N",
      "include_colab_link": true
    },
    "kernelspec": {
      "name": "python3",
      "display_name": "Python 3"
    },
    "language_info": {
      "name": "python"
    }
  },
  "cells": [
    {
      "cell_type": "markdown",
      "metadata": {
        "id": "view-in-github",
        "colab_type": "text"
      },
      "source": [
        "<a href=\"https://colab.research.google.com/github/itsabbhii/Training-AIML/blob/main/NLP/NLP.ipynb\" target=\"_parent\"><img src=\"https://colab.research.google.com/assets/colab-badge.svg\" alt=\"Open In Colab\"/></a>"
      ]
    },
    {
      "cell_type": "code",
      "execution_count": 1,
      "metadata": {
        "id": "oIjKkHztcE-Q",
        "colab": {
          "base_uri": "https://localhost:8080/"
        },
        "outputId": "650480d0-1e7e-46a0-edbc-a3a73fd392b0"
      },
      "outputs": [
        {
          "output_type": "stream",
          "name": "stdout",
          "text": [
            "Cloning into 'Training-AIML'...\n",
            "remote: Enumerating objects: 1136, done.\u001b[K\n",
            "remote: Counting objects: 100% (934/934), done.\u001b[K\n",
            "remote: Compressing objects: 100% (913/913), done.\u001b[K\n",
            "remote: Total 1136 (delta 54), reused 858 (delta 14), pack-reused 202 (from 1)\u001b[K\n",
            "Receiving objects: 100% (1136/1136), 54.22 MiB | 9.05 MiB/s, done.\n",
            "Resolving deltas: 100% (128/128), done.\n",
            "Updating files: 100% (942/942), done.\n",
            "/content/Training-AIML/NLP\n"
          ]
        }
      ],
      "source": [
        "!git clone https://github.com/itsabbhii/Training-AIML.git\n",
        "%cd Training-AIML/NLP/"
      ]
    },
    {
      "cell_type": "code",
      "source": [
        "import nltk,string,pickle\n",
        "import random\n",
        "from nltk.corpus import movie_reviews,stopwords\n",
        "from nltk.stem import WordNetLemmatizer\n",
        "from sklearn.model_selection import train_test_split\n",
        "from sklearn.feature_extraction.text import TfidfVectorizer\n",
        "from sklearn.linear_model import LogisticRegression\n",
        "from sklearn.metrics import accuracy_score, classification_report"
      ],
      "metadata": {
        "id": "SUlpEC8NfPOU"
      },
      "execution_count": 2,
      "outputs": []
    },
    {
      "cell_type": "code",
      "source": [
        "nltk.download(['movie_reviews', 'stopwords', 'wordnet'])\n",
        "documents = [\n",
        "    (list(movie_reviews.words(fileid)), category)\n",
        "    for category in movie_reviews.categories()\n",
        "    for fileid in movie_reviews.fileids(category)\n",
        "]\n",
        "random.shuffle(documents)\n",
        "reviews, sentiments = zip(*documents)"
      ],
      "metadata": {
        "colab": {
          "base_uri": "https://localhost:8080/"
        },
        "id": "bowyBAgRfdr8",
        "outputId": "e7cbbad7-c39f-40bd-efaa-c0495deacd7d"
      },
      "execution_count": 13,
      "outputs": [
        {
          "output_type": "stream",
          "name": "stderr",
          "text": [
            "[nltk_data] Downloading package movie_reviews to /root/nltk_data...\n",
            "[nltk_data]   Package movie_reviews is already up-to-date!\n",
            "[nltk_data] Downloading package stopwords to /root/nltk_data...\n",
            "[nltk_data]   Package stopwords is already up-to-date!\n",
            "[nltk_data] Downloading package wordnet to /root/nltk_data...\n",
            "[nltk_data]   Package wordnet is already up-to-date!\n"
          ]
        }
      ]
    },
    {
      "cell_type": "code",
      "source": [
        "def preprocess(review):\n",
        "  lemmatizer = WordNetLemmatizer()\n",
        "  stopword = set(stopwords.words('english'))\n",
        "  return ''.join([lemmatizer.lemmatize(word.lower()) for word in review if word not in string.punctuation and word.lower() not in stopword])\n",
        "processed_reviews = [preprocess(review) for review in reviews]"
      ],
      "metadata": {
        "id": "3v1WjbdvfomF"
      },
      "execution_count": 14,
      "outputs": []
    },
    {
      "cell_type": "code",
      "source": [
        "X_train, X_test, y_train, y_test = train_test_split(processed_reviews, sentiments, test_size=0.2)"
      ],
      "metadata": {
        "id": "a1sOVAZbgn7E"
      },
      "execution_count": 15,
      "outputs": []
    },
    {
      "cell_type": "code",
      "source": [
        "vectorizer = TfidfVectorizer(max_features=5000)\n",
        "X_train_vectorized = vectorizer.fit_transform(X_train)\n",
        "X_test_vectorized = vectorizer.transform(X_test)\n",
        "model = LogisticRegression().fit(X_train_vectorized, y_train)\n",
        "y_pred = model.predict(X_test_vectorized)\n",
        "\n",
        "accuracy = accuracy_score(y_test, y_pred)\n",
        "report = classification_report(y_test, y_pred)\n",
        "print(f\"Accuracy: {accuracy}\")\n",
        "print(f\"Report: {report}\")"
      ],
      "metadata": {
        "colab": {
          "base_uri": "https://localhost:8080/"
        },
        "id": "Km-5VWQzhF61",
        "outputId": "53e874f2-6b94-4570-cb07-d0ccf14f5866"
      },
      "execution_count": 16,
      "outputs": [
        {
          "output_type": "stream",
          "name": "stdout",
          "text": [
            "Accuracy: 0.4875\n",
            "Report:               precision    recall  f1-score   support\n",
            "\n",
            "         neg       0.49      0.98      0.65       195\n",
            "         pos       0.50      0.02      0.04       205\n",
            "\n",
            "    accuracy                           0.49       400\n",
            "   macro avg       0.49      0.50      0.34       400\n",
            "weighted avg       0.49      0.49      0.34       400\n",
            "\n"
          ]
        }
      ]
    },
    {
      "cell_type": "code",
      "source": [
        "with open(\"sentiment_model.pkl\", \"wb\") as m, open(\"tfidf_vectorize.pkl\", \"wb\") as v:\n",
        "  pickle.dump(model, m)\n",
        "  pickle.dump(vectorizer, v)"
      ],
      "metadata": {
        "id": "wMwu3z3_igR-"
      },
      "execution_count": 17,
      "outputs": []
    },
    {
      "cell_type": "code",
      "source": [
        "import pickle, string\n",
        "from nltk.corpus import stopwords\n",
        "from nltk.stem import WordNetLemmatizer\n",
        "\n",
        "with open(\"sentiment_model.pkl\", \"rb\") as m, open(\"tfidf_vectorize.pkl\", \"rb\") as v:\n",
        "  model = pickle.load(m)\n",
        "  vectorizer = pickle.load(v)\n",
        ""
      ],
      "metadata": {
        "id": "eP_yfVLzkyhr"
      },
      "execution_count": 9,
      "outputs": []
    },
    {
      "cell_type": "code",
      "source": [
        "def preprocess_input(input_text):\n",
        "  lemmatizer = WordNetLemmatizer()\n",
        "  stopword = set(stopwords.words('english'))\n",
        "  input_text = input_text.lower()\n",
        "  input_text = ''.join([lemmatizer.lemmatize(word) for word in input_text if word not in string.punctuation and word not in stopword])\n",
        "  words = input_text.split()\n",
        "  words = [word for word in words if len(word) > 1]\n",
        "  words = [lemmatizer.lemmatize(word) for word in words]\n",
        "  return ' '.join(words)"
      ],
      "metadata": {
        "id": "Sl-YMcYblCFg"
      },
      "execution_count": 11,
      "outputs": []
    },
    {
      "cell_type": "code",
      "source": [
        "custom_review = \"i enjoyed it\"\n",
        "preprocessed_review = preprocess_input(custom_review)\n",
        "vectorized_review = vectorizer.transform([preprocessed_review])\n",
        "prediction = model.predict(vectorized_review)\n",
        "print(f\"Predicted Sentiment: {prediction[0]}\")"
      ],
      "metadata": {
        "id": "M-gB-_mnmh3Q",
        "outputId": "9b3cc879-3b11-4a1d-ce89-da917041478a",
        "colab": {
          "base_uri": "https://localhost:8080/"
        }
      },
      "execution_count": 12,
      "outputs": [
        {
          "output_type": "stream",
          "name": "stdout",
          "text": [
            "Predicted Sentiment: neg\n"
          ]
        }
      ]
    }
  ]
}