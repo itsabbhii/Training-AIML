{
  "nbformat": 4,
  "nbformat_minor": 0,
  "metadata": {
    "colab": {
      "provenance": [],
      "authorship_tag": "ABX9TyOfcFEQCdPlgKZme2ToN9bU",
      "include_colab_link": true
    },
    "kernelspec": {
      "name": "python3",
      "display_name": "Python 3"
    },
    "language_info": {
      "name": "python"
    }
  },
  "cells": [
    {
      "cell_type": "markdown",
      "metadata": {
        "id": "view-in-github",
        "colab_type": "text"
      },
      "source": [
        "<a href=\"https://colab.research.google.com/github/itsabbhii/Training-AIML/blob/main/NLP/NLP.ipynb\" target=\"_parent\"><img src=\"https://colab.research.google.com/assets/colab-badge.svg\" alt=\"Open In Colab\"/></a>"
      ]
    },
    {
      "cell_type": "code",
      "execution_count": 10,
      "metadata": {
        "id": "oIjKkHztcE-Q",
        "outputId": "7597774d-5f59-43d4-c9c9-2fe6e89516fa",
        "colab": {
          "base_uri": "https://localhost:8080/"
        }
      },
      "outputs": [
        {
          "output_type": "stream",
          "name": "stdout",
          "text": [
            "Cloning into 'Training-AIML'...\n",
            "remote: Enumerating objects: 1124, done.\u001b[K\n",
            "remote: Counting objects: 100% (922/922), done.\u001b[K\n",
            "remote: Compressing objects: 100% (904/904), done.\u001b[K\n",
            "remote: Total 1124 (delta 48), reused 858 (delta 14), pack-reused 202 (from 1)\u001b[K\n",
            "Receiving objects: 100% (1124/1124), 54.22 MiB | 11.67 MiB/s, done.\n",
            "Resolving deltas: 100% (122/122), done.\n",
            "/content/Training-AIML/NLP/Training-AIML/NLP\n"
          ]
        }
      ],
      "source": [
        "!git clone https://github.com/itsabbhii/Training-AIML.git\n",
        "%cd Training-AIML/NLP/"
      ]
    },
    {
      "cell_type": "code",
      "source": [
        "import nltk,string,pickle\n",
        "import random\n",
        "from nltk.corpus import movie_reviews,stopwords\n",
        "from nltk.stem import WordNetLemmatizer\n",
        "from sklearn.model_selection import train_test_split\n",
        "from sklearn.feature_extraction.text import TfidfVectorizer\n",
        "from sklearn.linear_model import LogisticRegression\n",
        "from sklearn.metrics import accuracy_score,confusion_matrix"
      ],
      "metadata": {
        "id": "SUlpEC8NfPOU"
      },
      "execution_count": 14,
      "outputs": []
    },
    {
      "cell_type": "code",
      "source": [
        "nltk.download(['movie_reviews', 'stopwords', 'wordnet'])\n",
        "documents = [\n",
        "    (list(movie_reviews.words(fileid)), category)\n",
        "    for category in movie_reviews.categories()\n",
        "    for fileid in movie_reviews.fileids(category)\n",
        "]\n",
        "random.shuffle(documents)\n",
        "reviews, sentiments = zip(*documents)"
      ],
      "metadata": {
        "id": "bowyBAgRfdr8",
        "outputId": "5e077dff-b5fb-4353-cbed-3dd6a4a7dfba",
        "colab": {
          "base_uri": "https://localhost:8080/"
        }
      },
      "execution_count": 16,
      "outputs": [
        {
          "output_type": "stream",
          "name": "stderr",
          "text": [
            "[nltk_data] Downloading package movie_reviews to /root/nltk_data...\n",
            "[nltk_data]   Package movie_reviews is already up-to-date!\n",
            "[nltk_data] Downloading package stopwords to /root/nltk_data...\n",
            "[nltk_data]   Package stopwords is already up-to-date!\n",
            "[nltk_data] Downloading package wordnet to /root/nltk_data...\n",
            "[nltk_data]   Package wordnet is already up-to-date!\n"
          ]
        }
      ]
    },
    {
      "cell_type": "code",
      "source": [],
      "metadata": {
        "id": "3v1WjbdvfomF"
      },
      "execution_count": null,
      "outputs": []
    }
  ]
}